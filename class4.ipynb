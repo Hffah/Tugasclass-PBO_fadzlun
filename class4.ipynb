{
  "nbformat": 4,
  "nbformat_minor": 0,
  "metadata": {
    "colab": {
      "provenance": [],
      "authorship_tag": "ABX9TyPPT4q0cMhfcY3TFQg70Sj0",
      "include_colab_link": true
    },
    "kernelspec": {
      "name": "python3",
      "display_name": "Python 3"
    },
    "language_info": {
      "name": "python"
    }
  },
  "cells": [
    {
      "cell_type": "markdown",
      "metadata": {
        "id": "view-in-github",
        "colab_type": "text"
      },
      "source": [
        "<a href=\"https://colab.research.google.com/github/Hffah/Tugasclass-PBO_fadzlun/blob/main/class4.ipynb\" target=\"_parent\"><img src=\"https://colab.research.google.com/assets/colab-badge.svg\" alt=\"Open In Colab\"/></a>"
      ]
    },
    {
      "cell_type": "code",
      "execution_count": 8,
      "metadata": {
        "id": "XMz528CJTavA",
        "colab": {
          "base_uri": "https://localhost:8080/"
        },
        "outputId": "6f38272f-a7ff-4197-f939-60eb35fcec79"
      },
      "outputs": [
        {
          "output_type": "stream",
          "name": "stdout",
          "text": [
            "Hewan: Kucing, Jenis: Mamalia, Habitat: Rumah\n",
            "Kucing bersuara: Meong\n"
          ]
        }
      ],
      "source": [
        "# class hewan\n",
        "class NamaHewan:\n",
        "    def __init__(self, nama=\"\", jenis=\"\", suara=\"\", habitat=\"\"):\n",
        "        self.nama = nama\n",
        "        self.jenis = jenis\n",
        "        self.suara = suara\n",
        "        self.habitat = habitat\n",
        "\n",
        "    def bersuara(self):\n",
        "        print(f\"{self.nama} bersuara: {self.suara}\")\n",
        "\n",
        "    def info(self):\n",
        "        print(f\"Hewan: {self.nama}, Jenis: {self.jenis}, Habitat: {self.habitat}\")\n",
        "\n",
        "def main_nama_hewan():\n",
        "    obj = NamaHewan(\"Kucing\", \"Mamalia\", \"Meong\", \"Rumah\")\n",
        "    obj.info()\n",
        "    obj.bersuara()\n",
        "\n",
        "if __name__ == \"__main__\":\n",
        "    main_nama_hewan()\n"
      ]
    }
  ]
}
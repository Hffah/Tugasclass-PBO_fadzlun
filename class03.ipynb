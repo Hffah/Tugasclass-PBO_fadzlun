{
  "nbformat": 4,
  "nbformat_minor": 0,
  "metadata": {
    "colab": {
      "provenance": [],
      "authorship_tag": "ABX9TyPmaFChT0RBTPlek0Hqtypa",
      "include_colab_link": true
    },
    "kernelspec": {
      "name": "python3",
      "display_name": "Python 3"
    },
    "language_info": {
      "name": "python"
    }
  },
  "cells": [
    {
      "cell_type": "markdown",
      "metadata": {
        "id": "view-in-github",
        "colab_type": "text"
      },
      "source": [
        "<a href=\"https://colab.research.google.com/github/Hffah/Tugasclass-PBO_fadzlun/blob/main/class03.ipynb\" target=\"_parent\"><img src=\"https://colab.research.google.com/assets/colab-badge.svg\" alt=\"Open In Colab\"/></a>"
      ]
    },
    {
      "cell_type": "code",
      "execution_count": 7,
      "metadata": {
        "id": "XMz528CJTavA",
        "colab": {
          "base_uri": "https://localhost:8080/"
        },
        "outputId": "62c258ba-0e3c-44a6-b04c-0ba772d60845"
      },
      "outputs": [
        {
          "output_type": "stream",
          "name": "stdout",
          "text": [
            "Nama Pasien: Andi, Umur: 27 tahun\n"
          ]
        }
      ],
      "source": [
        "# Kelas Nama Pasien\n",
        "class NamaPasien:\n",
        "    def __init__(self):\n",
        "        self.nama = \"\"\n",
        "        self.umur = 0\n",
        "\n",
        "def main_nama_pasien():\n",
        "    obj = NamaPasien()\n",
        "    obj.nama = \"Andi\"\n",
        "    obj.umur = 27\n",
        "\n",
        "    print(f\"Nama Pasien: {obj.nama}, Umur: {obj.umur} tahun\")\n",
        "main_nama_pasien()"
      ]
    }
  ]
}
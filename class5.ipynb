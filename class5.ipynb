{
  "nbformat": 4,
  "nbformat_minor": 0,
  "metadata": {
    "colab": {
      "provenance": [],
      "authorship_tag": "ABX9TyOp62pTdha2dwFPrzQRqLC5",
      "include_colab_link": true
    },
    "kernelspec": {
      "name": "python3",
      "display_name": "Python 3"
    },
    "language_info": {
      "name": "python"
    }
  },
  "cells": [
    {
      "cell_type": "markdown",
      "metadata": {
        "id": "view-in-github",
        "colab_type": "text"
      },
      "source": [
        "<a href=\"https://colab.research.google.com/github/Hffah/Tugasclass-PBO_fadzlun/blob/main/class5.ipynb\" target=\"_parent\"><img src=\"https://colab.research.google.com/assets/colab-badge.svg\" alt=\"Open In Colab\"/></a>"
      ]
    },
    {
      "cell_type": "code",
      "execution_count": 10,
      "metadata": {
        "id": "XMz528CJTavA",
        "colab": {
          "base_uri": "https://localhost:8080/"
        },
        "outputId": "a290d978-be04-45a2-d79a-74a3fdcbb9f7"
      },
      "outputs": [
        {
          "output_type": "stream",
          "name": "stdout",
          "text": [
            "Es Krim: Coklat, Ukuran: Sedang, Harga: Rp15000\n",
            "Setelah diskon 10%, harga menjadi: Rp13500.0\n"
          ]
        }
      ],
      "source": [
        "#class EsKrim\n",
        "class EsKrim:\n",
        "    def __init__(self, rasa=\"\", harga=0, ukuran=\"\"):\n",
        "        self.rasa = rasa\n",
        "        self.harga = harga\n",
        "        self.ukuran = ukuran  # Bisa kecil, sedang, besar\n",
        "\n",
        "    def info(self):\n",
        "        print(f\"Es Krim: {self.rasa}, Ukuran: {self.ukuran}, Harga: Rp{self.harga}\")\n",
        "\n",
        "    def diskon(self, persen):\n",
        "        potongan = (self.harga * persen) / 100\n",
        "        harga_baru = self.harga - potongan\n",
        "        print(f\"Setelah diskon {persen}%, harga menjadi: Rp{harga_baru}\")\n",
        "\n",
        "def main_es_krim():\n",
        "    obj = EsKrim(\"Coklat\", 15000, \"Sedang\")\n",
        "    obj.info()\n",
        "    obj.diskon(10)  # Diskon 10%\n",
        "\n",
        "if __name__ == \"__main__\":\n",
        "    main_es_krim()\n"
      ]
    }
  ]
}
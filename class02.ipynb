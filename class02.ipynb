{
  "nbformat": 4,
  "nbformat_minor": 0,
  "metadata": {
    "colab": {
      "provenance": [],
      "authorship_tag": "ABX9TyOffaCOQ/03KQX1VsvYQtrw",
      "include_colab_link": true
    },
    "kernelspec": {
      "name": "python3",
      "display_name": "Python 3"
    },
    "language_info": {
      "name": "python"
    }
  },
  "cells": [
    {
      "cell_type": "markdown",
      "metadata": {
        "id": "view-in-github",
        "colab_type": "text"
      },
      "source": [
        "<a href=\"https://colab.research.google.com/github/Hffah/Tugasclass-PBO_fadzlun/blob/main/class02.ipynb\" target=\"_parent\"><img src=\"https://colab.research.google.com/assets/colab-badge.svg\" alt=\"Open In Colab\"/></a>"
      ]
    },
    {
      "cell_type": "code",
      "execution_count": 6,
      "metadata": {
        "id": "XMz528CJTavA",
        "colab": {
          "base_uri": "https://localhost:8080/"
        },
        "outputId": "a09e2eeb-0399-4510-e54a-793223e4ef80"
      },
      "outputs": [
        {
          "output_type": "stream",
          "name": "stdout",
          "text": [
            "Bulan: Maret, Urutan: 3\n"
          ]
        }
      ],
      "source": [
        "#class bulan\n",
        "class Bulan:\n",
        "    def __init__(self):\n",
        "        self.nama = \"\"\n",
        "        self.urutan = 0\n",
        "\n",
        "def main_bulan():\n",
        "    obj = Bulan()\n",
        "    obj.nama = \"Maret\"\n",
        "    obj.urutan = 3\n",
        "\n",
        "    print(f\"Bulan: {obj.nama}, Urutan: {obj.urutan}\")\n",
        "main_bulan()\n",
        "\n",
        "\n",
        "\n",
        "\n",
        "\n",
        "\n",
        "\n",
        "\n"
      ]
    }
  ]
}
{
  "nbformat": 4,
  "nbformat_minor": 0,
  "metadata": {
    "colab": {
      "provenance": [],
      "authorship_tag": "ABX9TyOOoZ4Kbcc4VWLXyUmg8Jxs",
      "include_colab_link": true
    },
    "kernelspec": {
      "name": "python3",
      "display_name": "Python 3"
    },
    "language_info": {
      "name": "python"
    }
  },
  "cells": [
    {
      "cell_type": "markdown",
      "metadata": {
        "id": "view-in-github",
        "colab_type": "text"
      },
      "source": [
        "<a href=\"https://colab.research.google.com/github/Hffah/Tugasclass-PBO_fadzlun/blob/main/class01.ipynb\" target=\"_parent\"><img src=\"https://colab.research.google.com/assets/colab-badge.svg\" alt=\"Open In Colab\"/></a>"
      ]
    },
    {
      "cell_type": "code",
      "execution_count": 2,
      "metadata": {
        "id": "XMz528CJTavA",
        "colab": {
          "base_uri": "https://localhost:8080/"
        },
        "outputId": "c78acf6d-5f22-4de9-b9f1-b77d4e3ba05e"
      },
      "outputs": [
        {
          "output_type": "stream",
          "name": "stdout",
          "text": [
            "Tanaman: Mawar, Jenis: Bunga\n"
          ]
        }
      ],
      "source": [
        "# Kelas Tanaman\n",
        "class Tanaman:\n",
        "    def __init__(self):\n",
        "        self.nama = \"\"\n",
        "        self.jenis = \"\"\n",
        "\n",
        "def main_tanaman():\n",
        "    obj = Tanaman()\n",
        "    obj.nama = \"Mawar\"\n",
        "    obj.jenis = \"Bunga\"\n",
        "\n",
        "    print(f\"Tanaman: {obj.nama}, Jenis: {obj.jenis}\")\n",
        "main_tanaman()\n",
        "\n",
        "\n",
        "\n",
        "\n",
        "\n",
        "\n",
        "\n",
        "\n"
      ]
    }
  ]
}